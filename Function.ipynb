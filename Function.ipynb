{
  "nbformat": 4,
  "nbformat_minor": 0,
  "metadata": {
    "colab": {
      "provenance": []
    },
    "kernelspec": {
      "name": "python3",
      "display_name": "Python 3"
    },
    "language_info": {
      "name": "python"
    }
  },
  "cells": [
    {
      "cell_type": "markdown",
      "source": [
        "#Theory Question"
      ],
      "metadata": {
        "id": "kd41jFVjC5MO"
      }
    },
    {
      "cell_type": "markdown",
      "source": [
        "Q1). What is the difference between a function and a method in Python?"
      ],
      "metadata": {
        "id": "_xNiW_NZC6oq"
      }
    },
    {
      "cell_type": "markdown",
      "source": [
        "Ans:function:A block of reusable code defined using def or lambda.Called independently: print(\"Hello\")"
      ],
      "metadata": {
        "id": "jxQXM-ixDEWW"
      }
    },
    {
      "cell_type": "code",
      "source": [
        "def add(a, b):\n",
        "    return a + b\n",
        "\n",
        "result = add(5, 3)\n",
        "print(\"Function Output:\", result)"
      ],
      "metadata": {
        "colab": {
          "base_uri": "https://localhost:8080/"
        },
        "id": "F-_m4thiEPX1",
        "outputId": "40a8bdae-0665-4f94-f677-338da03837fb"
      },
      "execution_count": null,
      "outputs": [
        {
          "output_type": "stream",
          "name": "stdout",
          "text": [
            "Function Output: 8\n"
          ]
        }
      ]
    },
    {
      "cell_type": "markdown",
      "source": [
        "Method:A function that is associated with an object (usually a class).\n",
        "Called using dot notation on an object."
      ],
      "metadata": {
        "id": "MEYykdaUEUwD"
      }
    },
    {
      "cell_type": "code",
      "source": [
        "text = \"hello\"\n",
        "print(\"Method Output:\", text.upper())\n"
      ],
      "metadata": {
        "id": "DtqRr3lMEnZq"
      },
      "execution_count": null,
      "outputs": []
    },
    {
      "cell_type": "markdown",
      "source": [
        "Q2). Explain the concept of function arguments and parameters in Python."
      ],
      "metadata": {
        "id": "cEmQD2WKEvmn"
      }
    },
    {
      "cell_type": "markdown",
      "source": [
        "Ans:Parameter:\tA variable in the function definition that receives a value.\n",
        "Argument:\tThe actual value passed to a function when it is called."
      ],
      "metadata": {
        "id": "ZkiHaDnrExGM"
      }
    },
    {
      "cell_type": "code",
      "source": [
        "def greet(name):\n",
        "    print(\"Hello\", name)\n",
        "\n",
        "greet(\"Kaif\")"
      ],
      "metadata": {
        "colab": {
          "base_uri": "https://localhost:8080/"
        },
        "id": "9OhhnTtLFPjA",
        "outputId": "5f38909c-d68f-4507-df32-152980203e4f"
      },
      "execution_count": null,
      "outputs": [
        {
          "output_type": "stream",
          "name": "stdout",
          "text": [
            "Hello Kaif\n"
          ]
        }
      ]
    },
    {
      "cell_type": "markdown",
      "source": [
        "Q3). What are the different ways to define and call a function in Python?"
      ],
      "metadata": {
        "id": "GOu_N5sLFipc"
      }
    },
    {
      "cell_type": "markdown",
      "source": [
        "Ans:In Python, a function is a reusable block of code that performs a specific task. You can define and call functions in several ways. Here's a complete explanation:"
      ],
      "metadata": {
        "id": "oww1V0ejeBtW"
      }
    },
    {
      "cell_type": "markdown",
      "source": [
        "1. Defining a Function"
      ],
      "metadata": {
        "id": "QAnkrkAeeHkF"
      }
    },
    {
      "cell_type": "markdown",
      "source": [
        "Using def keyword"
      ],
      "metadata": {
        "id": "GfC2F6Rteqr8"
      }
    },
    {
      "cell_type": "code",
      "source": [
        "def greet():\n",
        "    print(\"Hello, World!\")"
      ],
      "metadata": {
        "id": "n3Wivn5MeJLN"
      },
      "execution_count": null,
      "outputs": []
    },
    {
      "cell_type": "markdown",
      "source": [
        "Function with parameters"
      ],
      "metadata": {
        "id": "W7jSgfWCesLi"
      }
    },
    {
      "cell_type": "code",
      "source": [
        "def greet(name):\n",
        "    print(\"Hello,\", name)\n"
      ],
      "metadata": {
        "id": "cnmtADx1eyad"
      },
      "execution_count": null,
      "outputs": []
    },
    {
      "cell_type": "markdown",
      "source": [
        "Function with return value"
      ],
      "metadata": {
        "id": "mml-eWlUe2-b"
      }
    },
    {
      "cell_type": "code",
      "source": [
        "def add(a, b):\n",
        "    return a + b"
      ],
      "metadata": {
        "id": "CEJKyGKYe5W-"
      },
      "execution_count": null,
      "outputs": []
    },
    {
      "cell_type": "markdown",
      "source": [
        "2. Calling a Function\n",
        "\n"
      ],
      "metadata": {
        "id": "mqctg381eZIB"
      }
    },
    {
      "cell_type": "markdown",
      "source": [
        "Without arguments"
      ],
      "metadata": {
        "id": "7Y4EhqVQfAW7"
      }
    },
    {
      "cell_type": "code",
      "source": [
        "greet()"
      ],
      "metadata": {
        "id": "uOMSoTu0eeHT"
      },
      "execution_count": null,
      "outputs": []
    },
    {
      "cell_type": "markdown",
      "source": [
        "With arguments"
      ],
      "metadata": {
        "id": "SwyNQZacfDeH"
      }
    },
    {
      "cell_type": "code",
      "source": [
        "greet(\"Kaif\")"
      ],
      "metadata": {
        "id": "S6Db5gsKfFmD"
      },
      "execution_count": null,
      "outputs": []
    },
    {
      "cell_type": "markdown",
      "source": [
        "Using return value"
      ],
      "metadata": {
        "id": "rSi6PMawfIP2"
      }
    },
    {
      "cell_type": "code",
      "source": [
        "result = add(10, 5)\n",
        "print(result)"
      ],
      "metadata": {
        "id": "Ei0NT4kVfLL3"
      },
      "execution_count": null,
      "outputs": []
    },
    {
      "cell_type": "markdown",
      "source": [
        "3. Different Ways to Define/Use Functions"
      ],
      "metadata": {
        "id": "VhaOYj4RfRnU"
      }
    },
    {
      "cell_type": "markdown",
      "source": [
        "A. Default Arguments"
      ],
      "metadata": {
        "id": "beSLvMEsfTwi"
      }
    },
    {
      "cell_type": "code",
      "source": [
        "def greet(name=\"Guest\"):\n",
        "    print(\"Hello\", name)\n",
        "\n",
        "greet()\n",
        "greet(\"Kaif\")"
      ],
      "metadata": {
        "id": "A5aZdCdOfYiB"
      },
      "execution_count": null,
      "outputs": []
    },
    {
      "cell_type": "markdown",
      "source": [],
      "metadata": {
        "id": "EXG6xll3fb-A"
      }
    },
    {
      "cell_type": "markdown",
      "source": [
        "B. Keyword Arguments"
      ],
      "metadata": {
        "id": "970kuSanfb_T"
      }
    },
    {
      "cell_type": "code",
      "source": [
        "def student(name, age):\n",
        "    print(\"Name:\", name)\n",
        "    print(\"Age:\", age)\n",
        "\n",
        "student(age=20, name=\"Kaif\")"
      ],
      "metadata": {
        "colab": {
          "base_uri": "https://localhost:8080/"
        },
        "id": "KgCb3Lc0fnvs",
        "outputId": "c2366c49-8db5-4055-ae9a-05eb7e6d7673"
      },
      "execution_count": null,
      "outputs": [
        {
          "output_type": "stream",
          "name": "stdout",
          "text": [
            "Name: Kaif\n",
            "Age: 20\n"
          ]
        }
      ]
    },
    {
      "cell_type": "markdown",
      "source": [
        "C. Arbitrary Arguments (*args)"
      ],
      "metadata": {
        "id": "boiNiPWZfqL8"
      }
    },
    {
      "cell_type": "code",
      "source": [
        "def total(*numbers):\n",
        "    print(sum(numbers))\n",
        "\n",
        "total(10, 20, 30)"
      ],
      "metadata": {
        "id": "E2kLk878fv75"
      },
      "execution_count": null,
      "outputs": []
    },
    {
      "cell_type": "markdown",
      "source": [
        "D. Arbitrary Keyword Arguments (**kwargs)"
      ],
      "metadata": {
        "id": "nQiI9V5PfyTh"
      }
    },
    {
      "cell_type": "code",
      "source": [
        "def info(**data):\n",
        "    for key, value in data.items():\n",
        "        print(key, \":\", value)\n",
        "\n",
        "info(name=\"Kaif\", age=20, city=\"Siwan\")"
      ],
      "metadata": {
        "id": "1vfdftN5f0kA"
      },
      "execution_count": null,
      "outputs": []
    },
    {
      "cell_type": "markdown",
      "source": [
        "E. Lambda (Anonymous Function)"
      ],
      "metadata": {
        "id": "GUqI4qTggAJn"
      }
    },
    {
      "cell_type": "code",
      "source": [
        "square = lambda x: x * x\n",
        "print(square(5))"
      ],
      "metadata": {
        "id": "jyWSVmIWgEQY"
      },
      "execution_count": null,
      "outputs": []
    },
    {
      "cell_type": "markdown",
      "source": [
        " F. Function Inside a Function (Nested Function)"
      ],
      "metadata": {
        "id": "7W41tmTWgPfH"
      }
    },
    {
      "cell_type": "code",
      "source": [
        "def outer():\n",
        "    def inner():\n",
        "        print(\"Inside inner function\")\n",
        "    inner()\n",
        "\n",
        "outer()"
      ],
      "metadata": {
        "id": "OFYJfazCgQrp"
      },
      "execution_count": null,
      "outputs": []
    },
    {
      "cell_type": "markdown",
      "source": [
        "Q4). What is the purpose of the return' statement in a Python function?"
      ],
      "metadata": {
        "id": "oMiFpRQinqDi"
      }
    },
    {
      "cell_type": "markdown",
      "source": [
        "Ans:The return statement ends the execution of a function and sends a value back to the place where the function was called."
      ],
      "metadata": {
        "id": "k7pTsJqxn4vV"
      }
    },
    {
      "cell_type": "markdown",
      "source": [
        "Send Output from the Function"
      ],
      "metadata": {
        "id": "hEXTgVJlo-dx"
      }
    },
    {
      "cell_type": "code",
      "source": [
        "def add(a, b):\n",
        "    return a + b\n",
        "\n",
        "result = add(5, 3)\n",
        "print(result)"
      ],
      "metadata": {
        "id": "uVG5BcbroSTg"
      },
      "execution_count": null,
      "outputs": []
    },
    {
      "cell_type": "markdown",
      "source": [
        "Exit the Function Early"
      ],
      "metadata": {
        "id": "R_b-waOypBdO"
      }
    },
    {
      "cell_type": "code",
      "source": [
        "def check(num):\n",
        "    if num > 0:\n",
        "        return \"Positive\"\n",
        "    return \"Non-positive\""
      ],
      "metadata": {
        "id": "9j1dbahmpEhi"
      },
      "execution_count": null,
      "outputs": []
    },
    {
      "cell_type": "markdown",
      "source": [
        "Return Multiple Values (as a tuple)"
      ],
      "metadata": {
        "id": "IL_GGIsqpHix"
      }
    },
    {
      "cell_type": "code",
      "source": [
        "def get_info():\n",
        "    name = \"Kaif\"\n",
        "    age = 20\n",
        "    return name, age\n",
        "\n",
        "n, a = get_info()\n",
        "print(n, a)"
      ],
      "metadata": {
        "id": "VX76unQupLQy"
      },
      "execution_count": null,
      "outputs": []
    },
    {
      "cell_type": "markdown",
      "source": [
        "6. Explain the concept of generators in Python and how they are defined."
      ],
      "metadata": {
        "id": "y-XdewbsqOMa"
      }
    },
    {
      "cell_type": "markdown",
      "source": [
        "Ans:Generators are special functions in Python that allow you to iterate over a sequence of values one at a time, without storing the entire sequence in memory.\n",
        "They are lazy iterators, which means they generate items only when requested, making them memory-efficient and ideal for working with large data sets or infinite sequences.\n",
        "\n"
      ],
      "metadata": {
        "id": "fWX2FnjRqZh1"
      }
    },
    {
      "cell_type": "code",
      "source": [
        "def simple_generator():\n",
        "    yield 1\n",
        "    yield 2\n",
        "    yield 3"
      ],
      "metadata": {
        "id": "SOFUb3gSrf9C"
      },
      "execution_count": null,
      "outputs": []
    },
    {
      "cell_type": "markdown",
      "source": [
        "Using the Generator:"
      ],
      "metadata": {
        "id": "Dr5OVIXUsJrF"
      }
    },
    {
      "cell_type": "code",
      "source": [
        "gen = simple_generator()\n",
        "\n",
        "print(next(gen))\n",
        "print(next(gen))\n",
        "print(next(gen))"
      ],
      "metadata": {
        "id": "QT9wwMsKsKiR"
      },
      "execution_count": null,
      "outputs": []
    },
    {
      "cell_type": "markdown",
      "source": [
        "Q7). What are the advantages of using generators over regular functions?"
      ],
      "metadata": {
        "id": "fP7ccsVQsg75"
      }
    },
    {
      "cell_type": "markdown",
      "source": [
        "Ans:Generators offer several key benefits, especially when working with large or infinite data sets."
      ],
      "metadata": {
        "id": "9e_fwasqtDJv"
      }
    },
    {
      "cell_type": "markdown",
      "source": [
        "1. Memory Efficiency:Generators do not store all values in memory — they yield one item at a time.\n",
        "Regular functions using lists store the entire sequence, consuming more memory."
      ],
      "metadata": {
        "id": "ilGIzMo_tPUN"
      }
    },
    {
      "cell_type": "code",
      "source": [
        "def gen_nums():\n",
        "    for i in range(1000000):\n",
        "        yield i"
      ],
      "metadata": {
        "id": "C1Cg0d6DtZ-7"
      },
      "execution_count": null,
      "outputs": []
    },
    {
      "cell_type": "markdown",
      "source": [],
      "metadata": {
        "id": "cD8v_Rentdjx"
      }
    },
    {
      "cell_type": "markdown",
      "source": [
        " 2. Lazy Evaluation:\n",
        "Generators generate values only when needed (on-demand).\n",
        "Useful when you don’t need all results at once.\n"
      ],
      "metadata": {
        "id": "At7yS0ZDtdlm"
      }
    },
    {
      "cell_type": "code",
      "source": [
        "g = gen_nums()\n",
        "print(next(g))"
      ],
      "metadata": {
        "id": "sis9IFQbthR1"
      },
      "execution_count": null,
      "outputs": []
    },
    {
      "cell_type": "markdown",
      "source": [
        "3. Infinite Sequences Handling\n",
        "You can easily create infinite loops or series with generators.\n"
      ],
      "metadata": {
        "id": "3O1zTmJDtjo6"
      }
    },
    {
      "cell_type": "code",
      "source": [
        "def infinite_numbers():\n",
        "    n = 1\n",
        "    while True:\n",
        "        yield n\n",
        "        n += 1"
      ],
      "metadata": {
        "id": "QPU9dzBjtmbh"
      },
      "execution_count": null,
      "outputs": []
    },
    {
      "cell_type": "markdown",
      "source": [
        "4. Cleaner Code with Less Overhead\n",
        "Generators can simplify logic that would otherwise require managing state manually.\n",
        "Less need for temporary variables or complex class-based iterators.\n"
      ],
      "metadata": {
        "id": "sRp5nixVtqAu"
      }
    },
    {
      "cell_type": "markdown",
      "source": [],
      "metadata": {
        "id": "sK4tjw99tsQb"
      }
    },
    {
      "cell_type": "markdown",
      "source": [
        "5. Performance Boost\n",
        "Because generators yield one value at a time, execution starts faster than building a full list or other data structure.\n",
        "Great for tasks like streaming data, file reading, etc."
      ],
      "metadata": {
        "id": "yc8ontRqtsRj"
      }
    },
    {
      "cell_type": "markdown",
      "source": [],
      "metadata": {
        "id": "tSooGM8ctu5M"
      }
    },
    {
      "cell_type": "markdown",
      "source": [
        "6. Support for Iteration\n",
        "Generators are automatically iterable using loops."
      ],
      "metadata": {
        "id": "x0MKUjzvtu6v"
      }
    },
    {
      "cell_type": "code",
      "source": [
        "for val in gen_nums():\n",
        "    print(val)"
      ],
      "metadata": {
        "id": "g35mOFFptveK"
      },
      "execution_count": null,
      "outputs": []
    },
    {
      "cell_type": "markdown",
      "source": [
        "Q8). What is a lambda function in Python and when is it typically used?"
      ],
      "metadata": {
        "id": "LJH_9bbyt0Sw"
      }
    },
    {
      "cell_type": "markdown",
      "source": [
        "Ans:A lambda function in Python is a small, anonymous function defined using the lambda keyword instead of def.\n",
        "It can have any number of arguments, but only one expression (no statements or multiple lines)."
      ],
      "metadata": {
        "id": "InGyiDtIt4gC"
      }
    },
    {
      "cell_type": "code",
      "source": [
        "lambda arguments: expression"
      ],
      "metadata": {
        "id": "mgotiCo_uHWU"
      },
      "execution_count": null,
      "outputs": []
    },
    {
      "cell_type": "code",
      "source": [
        "square = lambda x: x * x\n",
        "print(square(5))"
      ],
      "metadata": {
        "id": "zgs6mxMzuOQw"
      },
      "execution_count": null,
      "outputs": []
    },
    {
      "cell_type": "code",
      "source": [
        "def square(x):\n",
        "    return x * x"
      ],
      "metadata": {
        "id": "k6_0uwCIuRk-"
      },
      "execution_count": null,
      "outputs": []
    },
    {
      "cell_type": "markdown",
      "source": [
        "Typical Uses of Lambda Functions\n"
      ],
      "metadata": {
        "id": "NMJectxluVt0"
      }
    },
    {
      "cell_type": "markdown",
      "source": [
        "Lambda functions are mostly used when you need a short function for a short time, especially in places where defining a full function with def would be unnecessary"
      ],
      "metadata": {
        "id": "PZ94bDAyuX7A"
      }
    },
    {
      "cell_type": "markdown",
      "source": [],
      "metadata": {
        "id": "9qoce3NOubTI"
      }
    },
    {
      "cell_type": "markdown",
      "source": [
        "Common Use Cases:"
      ],
      "metadata": {
        "id": "G4F_U1WDubUa"
      }
    },
    {
      "cell_type": "markdown",
      "source": [],
      "metadata": {
        "id": "MhdJdyt4ud8l"
      }
    },
    {
      "cell_type": "markdown",
      "source": [
        "1. With map() Function\n",
        "\n",
        "Apply a function to every element of an iterable."
      ],
      "metadata": {
        "id": "h8cqA66Pud-M"
      }
    },
    {
      "cell_type": "code",
      "source": [
        "nums = [1, 2, 3, 4]\n",
        "squared = list(map(lambda x: x*x, nums))\n",
        "print(squared)"
      ],
      "metadata": {
        "id": "KxAnIJFBue1P"
      },
      "execution_count": null,
      "outputs": []
    },
    {
      "cell_type": "markdown",
      "source": [
        "2. With filter() Function\n",
        "\n",
        "Filter items in a list."
      ],
      "metadata": {
        "id": "qq2Quyz-vZE7"
      }
    },
    {
      "cell_type": "code",
      "source": [
        "nums = [1, 2, 3, 4, 5]\n",
        "even = list(filter(lambda x: x % 2 == 0, nums))\n",
        "print(even)"
      ],
      "metadata": {
        "id": "3O2xDmOIvaAT"
      },
      "execution_count": null,
      "outputs": []
    },
    {
      "cell_type": "markdown",
      "source": [
        "3. With sorted() Function\n",
        "\n",
        "Sort a list of tuples by the second value."
      ],
      "metadata": {
        "id": "Sl_nw7Spvee2"
      }
    },
    {
      "cell_type": "code",
      "source": [
        "pairs = [(1, 3), (2, 2), (4, 1)]\n",
        "sorted_pairs = sorted(pairs, key=lambda x: x[1])\n",
        "print(sorted_pairs)"
      ],
      "metadata": {
        "id": "CfE_BY87vg7j"
      },
      "execution_count": null,
      "outputs": []
    },
    {
      "cell_type": "markdown",
      "source": [
        "4. Inside Data Structures"
      ],
      "metadata": {
        "id": "InUQ0XBnvjbs"
      }
    },
    {
      "cell_type": "code",
      "source": [
        "functions = [lambda x: x+1, lambda x: x*2]\n",
        "print(functions )\n",
        "print(functions )"
      ],
      "metadata": {
        "id": "Y4dTSx5ovl9K"
      },
      "execution_count": null,
      "outputs": []
    },
    {
      "cell_type": "markdown",
      "source": [],
      "metadata": {
        "id": "2TWd5uVXvqv5"
      }
    },
    {
      "cell_type": "markdown",
      "source": [
        "Q9). Explain the purpose and usage of the map function in Python."
      ],
      "metadata": {
        "id": "a2S33-eZvqxu"
      }
    },
    {
      "cell_type": "markdown",
      "source": [
        "Ans:The map() function in Python is used to apply a function to every item in an iterable (like a list, tuple, etc.) and return a new iterator with the results."
      ],
      "metadata": {
        "id": "GQKGVnXIvu4j"
      }
    },
    {
      "cell_type": "code",
      "source": [],
      "metadata": {
        "id": "AI3FP8ymwAkA"
      },
      "execution_count": null,
      "outputs": []
    },
    {
      "cell_type": "code",
      "source": [
        "map(function, iterable)"
      ],
      "metadata": {
        "id": "cLEEDasOwAlU"
      },
      "execution_count": null,
      "outputs": []
    },
    {
      "cell_type": "markdown",
      "source": [
        "function: The function to apply.\n",
        "iterable: A sequence like a list, tuple, etc."
      ],
      "metadata": {
        "id": "UMpmXPwzwEOJ"
      }
    },
    {
      "cell_type": "markdown",
      "source": [],
      "metadata": {
        "id": "55G0RVzpwHgx"
      }
    },
    {
      "cell_type": "markdown",
      "source": [
        "Example 1: Square Each Number"
      ],
      "metadata": {
        "id": "qDBFTxAjwHim"
      }
    },
    {
      "cell_type": "code",
      "source": [
        "nums = [1, 2, 3, 4]\n",
        "squared = map(lambda x: x * x, nums)\n",
        "print(list(squared))"
      ],
      "metadata": {
        "id": "kJq0EEXBwJ-o"
      },
      "execution_count": null,
      "outputs": []
    },
    {
      "cell_type": "markdown",
      "source": [],
      "metadata": {
        "id": "nI9cnxAbwWne"
      }
    },
    {
      "cell_type": "markdown",
      "source": [
        "10. What is the difference between (map), (reduce), and (filter) functions in Python?"
      ],
      "metadata": {
        "id": "iqCg_00-wWow"
      }
    },
    {
      "cell_type": "markdown",
      "source": [
        "These are functional programming tools in Python that help you work with iterables like lists and tuples without writing explicit loops. Here's how they differ:\n",
        "\n"
      ],
      "metadata": {
        "id": "t-RdmnCxxqm0"
      }
    },
    {
      "cell_type": "markdown",
      "source": [
        "1. map() Function"
      ],
      "metadata": {
        "id": "r7wPj-OkxxWD"
      }
    },
    {
      "cell_type": "markdown",
      "source": [
        "Applies a function to every item in an iterable and returns a new iterable (map object)."
      ],
      "metadata": {
        "id": "hgEm1nvSx2mQ"
      }
    },
    {
      "cell_type": "code",
      "source": [
        "map(function, iterable)"
      ],
      "metadata": {
        "id": "RKb-oso3x4ry"
      },
      "execution_count": null,
      "outputs": []
    },
    {
      "cell_type": "markdown",
      "source": [
        "Example"
      ],
      "metadata": {
        "id": "GCv31rJEx87-"
      }
    },
    {
      "cell_type": "code",
      "source": [
        "nums = [1, 2, 3, 4]\n",
        "squares = list(map(lambda x: x * x, nums))\n",
        "print(squares)"
      ],
      "metadata": {
        "id": "22hpSZEvx_Bi"
      },
      "execution_count": null,
      "outputs": []
    },
    {
      "cell_type": "markdown",
      "source": [
        "2. filter() Function\n",
        "Purpose:\n",
        "Filters items in an iterable based on a condition (True/False) and returns only the items that pass.\n",
        "\n",
        "Syntax:"
      ],
      "metadata": {
        "id": "2mK8IxrvyOVh"
      }
    },
    {
      "cell_type": "code",
      "source": [
        "filter(function, iterable)"
      ],
      "metadata": {
        "id": "lfnL7fZuybCA"
      },
      "execution_count": null,
      "outputs": []
    },
    {
      "cell_type": "markdown",
      "source": [
        "Example"
      ],
      "metadata": {
        "id": "FyKtsIfayifY"
      }
    },
    {
      "cell_type": "code",
      "source": [
        "nums = [1, 2, 3, 4, 5]\n",
        "evens = list(filter(lambda x: x % 2 == 0, nums))\n",
        "print(evens)"
      ],
      "metadata": {
        "id": "i1-_CWbVygJn"
      },
      "execution_count": null,
      "outputs": []
    },
    {
      "cell_type": "markdown",
      "source": [
        "3. reduce() Function\n",
        " Purpose:\n",
        "Reduces an iterable to a single value by applying a function cumulatively (one pair at a time).\n",
        "Note: reduce() is part of the functools module.\n",
        "\n",
        " Syntax:"
      ],
      "metadata": {
        "id": "F0YHOboeysLq"
      }
    },
    {
      "cell_type": "code",
      "source": [
        "rom functools import reduce\n",
        "reduce(function, iterable)"
      ],
      "metadata": {
        "id": "DNwdisWX170C"
      },
      "execution_count": null,
      "outputs": []
    },
    {
      "cell_type": "markdown",
      "source": [
        "Example:"
      ],
      "metadata": {
        "id": "c9gT13k-1-qe"
      }
    },
    {
      "cell_type": "code",
      "source": [
        "from functools import reduce\n",
        "\n",
        "nums = [1, 2, 3, 4]\n",
        "product = reduce(lambda x, y: x * y, nums)\n",
        "print(product"
      ],
      "metadata": {
        "id": "aK8qoE7I2EiM"
      },
      "execution_count": null,
      "outputs": []
    },
    {
      "cell_type": "markdown",
      "source": [],
      "metadata": {
        "id": "fIpKV5bM2J6s"
      }
    },
    {
      "cell_type": "markdown",
      "source": [
        "Q11). Using pen & Paper write the internal mechanism for sum operation using reduce function on this given list: [47,11,42,13];"
      ],
      "metadata": {
        "id": "1hQqG9BT2J8z"
      }
    },
    {
      "cell_type": "markdown",
      "source": [
        "Ans:Input List: [47, 11, 42, 13]\n",
        "We want to find the sum using reduce()."
      ],
      "metadata": {
        "id": "0NbbCSzi2XhD"
      }
    },
    {
      "cell_type": "markdown",
      "source": [
        "Step 1: Import reduce\n"
      ],
      "metadata": {
        "id": "CuvtoXvs2bN0"
      }
    },
    {
      "cell_type": "code",
      "source": [
        "from functools import reduce"
      ],
      "metadata": {
        "id": "v9bVSd_E2f0T"
      },
      "execution_count": null,
      "outputs": []
    },
    {
      "cell_type": "markdown",
      "source": [
        " Step 2: Define Lambda Function"
      ],
      "metadata": {
        "id": "AfDRvL3X2jF7"
      }
    },
    {
      "cell_type": "code",
      "source": [
        "reduce(lambda x, y: x + y, [47, 11, 42, 13])"
      ],
      "metadata": {
        "id": "iumvgWcV2myi"
      },
      "execution_count": null,
      "outputs": []
    },
    {
      "cell_type": "code",
      "source": [
        "reduce(lambda x, y: x + y, [47, 11, 42, 13]) ➝ 113"
      ],
      "metadata": {
        "id": "yjwtJjJl3CHV"
      },
      "execution_count": null,
      "outputs": []
    },
    {
      "cell_type": "markdown",
      "source": [
        "It works like:\n",
        "\n"
      ],
      "metadata": {
        "id": "kL7WIAaX3EL9"
      }
    },
    {
      "cell_type": "code",
      "source": [
        "((47 + 11) + 42) + 13 = 113"
      ],
      "metadata": {
        "id": "jUF6NqwT3FZQ"
      },
      "execution_count": null,
      "outputs": []
    },
    {
      "cell_type": "markdown",
      "source": [
        "#Practical Questions:"
      ],
      "metadata": {
        "id": "UQ-gKzjs3Qxt"
      }
    },
    {
      "cell_type": "markdown",
      "source": [
        "Q1). Write a Python function that takes a list of numbers as input and returns the sum of all even numbers in the list"
      ],
      "metadata": {
        "id": "Rx2eDlfU3SRd"
      }
    },
    {
      "cell_type": "markdown",
      "source": [
        "Ans:"
      ],
      "metadata": {
        "id": "tMUolFvp3gqi"
      }
    },
    {
      "cell_type": "code",
      "source": [
        "def sum_of_even(numbers):\n",
        "    total = 0\n",
        "    for num in numbers:\n",
        "        if num % 2 == 0:\n",
        "            total += num\n",
        "    return total\n"
      ],
      "metadata": {
        "id": "E3vkaha63ur7"
      },
      "execution_count": null,
      "outputs": []
    },
    {
      "cell_type": "code",
      "source": [
        " nums = [10, 15, 20, 25, 30]\n",
        "result = sum_of_even(nums)\n",
        "print(\"Sum of even numbers:\", result)"
      ],
      "metadata": {
        "colab": {
          "base_uri": "https://localhost:8080/"
        },
        "id": "SGomwD-C-5lf",
        "outputId": "5f0f5bf1-fca2-49ae-b1d9-88d44ef9886d"
      },
      "execution_count": null,
      "outputs": [
        {
          "output_type": "stream",
          "name": "stdout",
          "text": [
            "Sum of even numbers: 60\n"
          ]
        }
      ]
    },
    {
      "cell_type": "markdown",
      "source": [
        "Q2.) Create a Python function that accepts a string and returns the reverse of that string."
      ],
      "metadata": {
        "id": "KXdXN3or_kOr"
      }
    },
    {
      "cell_type": "code",
      "source": [
        "def reverse_string(text):\n",
        "    return text[::-1]\n",
        "result = reverse_string(\"Python\")\n",
        "print(\"Reversed String:\", result)"
      ],
      "metadata": {
        "colab": {
          "base_uri": "https://localhost:8080/"
        },
        "id": "vuhOeQuN_uSu",
        "outputId": "1e0da7e3-93ab-4b3c-a1c6-caf44ca3d31f"
      },
      "execution_count": null,
      "outputs": [
        {
          "output_type": "stream",
          "name": "stdout",
          "text": [
            "Reversed String: nohtyP\n"
          ]
        }
      ]
    },
    {
      "cell_type": "markdown",
      "source": [],
      "metadata": {
        "id": "lfdemuAlAdd0"
      }
    },
    {
      "cell_type": "markdown",
      "source": [
        "Q3). Implement a Python function that takes a list of integers and returns a new list containing the squares of each number."
      ],
      "metadata": {
        "id": "KTopX3mwAdfZ"
      }
    },
    {
      "cell_type": "code",
      "source": [
        "#Ans:\n",
        "def square_list(numbers):\n",
        "    return [x * x for x in numbers]\n",
        "nums = [2, 3, 4, 5]\n",
        "result = square_list(nums)\n",
        "print(\"Squared List:\", result)"
      ],
      "metadata": {
        "colab": {
          "base_uri": "https://localhost:8080/"
        },
        "id": "CutCs9feAe8L",
        "outputId": "3601046e-a646-482b-87c7-ee591c1647f5"
      },
      "execution_count": null,
      "outputs": [
        {
          "output_type": "stream",
          "name": "stdout",
          "text": [
            "Squared List: [4, 9, 16, 25]\n"
          ]
        }
      ]
    },
    {
      "cell_type": "markdown",
      "source": [],
      "metadata": {
        "id": "I9W3W-IpBF1U"
      }
    },
    {
      "cell_type": "markdown",
      "source": [
        "Q4). Write a Python function that checks if a given number is prime or not from 1 to 200."
      ],
      "metadata": {
        "id": "2c9aJa1ABF22"
      }
    },
    {
      "cell_type": "code",
      "source": [
        "#Ans\n",
        "def is_prime(n):\n",
        "    if n < 2:\n",
        "        return False\n",
        "    for i in range(2, int(n ** 0.5) + 1):\n",
        "        if n % i == 0:\n",
        "            return False\n",
        "    return True\n",
        "for num in range(1, 201):\n",
        "    if is_prime(num):\n",
        "        print(f\"{num} is a prime number\")"
      ],
      "metadata": {
        "colab": {
          "base_uri": "https://localhost:8080/"
        },
        "id": "TxmY7-wtBJXK",
        "outputId": "bbefcadf-63e9-4d10-efb0-6bbb1690ce6d"
      },
      "execution_count": null,
      "outputs": [
        {
          "output_type": "stream",
          "name": "stdout",
          "text": [
            "2 is a prime number\n",
            "3 is a prime number\n",
            "5 is a prime number\n",
            "7 is a prime number\n",
            "11 is a prime number\n",
            "13 is a prime number\n",
            "17 is a prime number\n",
            "19 is a prime number\n",
            "23 is a prime number\n",
            "29 is a prime number\n",
            "31 is a prime number\n",
            "37 is a prime number\n",
            "41 is a prime number\n",
            "43 is a prime number\n",
            "47 is a prime number\n",
            "53 is a prime number\n",
            "59 is a prime number\n",
            "61 is a prime number\n",
            "67 is a prime number\n",
            "71 is a prime number\n",
            "73 is a prime number\n",
            "79 is a prime number\n",
            "83 is a prime number\n",
            "89 is a prime number\n",
            "97 is a prime number\n",
            "101 is a prime number\n",
            "103 is a prime number\n",
            "107 is a prime number\n",
            "109 is a prime number\n",
            "113 is a prime number\n",
            "127 is a prime number\n",
            "131 is a prime number\n",
            "137 is a prime number\n",
            "139 is a prime number\n",
            "149 is a prime number\n",
            "151 is a prime number\n",
            "157 is a prime number\n",
            "163 is a prime number\n",
            "167 is a prime number\n",
            "173 is a prime number\n",
            "179 is a prime number\n",
            "181 is a prime number\n",
            "191 is a prime number\n",
            "193 is a prime number\n",
            "197 is a prime number\n",
            "199 is a prime number\n"
          ]
        }
      ]
    },
    {
      "cell_type": "markdown",
      "source": [
        "Q5). Erecte an iterator class in Python that generates the Fibonacci sequence up to a specified number of terms."
      ],
      "metadata": {
        "id": "tzP4YkubBups"
      }
    },
    {
      "cell_type": "code",
      "source": [
        "#Ans\n",
        "class Fibonacci:\n",
        "    def __init__(self, max_terms):\n",
        "        self.max_terms = max_terms\n",
        "        self.count = 0\n",
        "        self.a, self.b = 0, 1\n",
        "\n",
        "    def __iter__(self):\n",
        "        return self\n",
        "\n",
        "    def __next__(self):\n",
        "        if self.count < self.max_terms:\n",
        "            fib = self.a\n",
        "            self.a, self.b = self.b, self.a + self.b\n",
        "            self.count += 1\n",
        "            return fib\n",
        "        else:\n",
        "            raise StopIteration\n",
        "fib = Fibonacci(10)  # Generate 10 terms of Fibonacci\n",
        "\n",
        "for num in fib:\n",
        "    print(num)\n"
      ],
      "metadata": {
        "colab": {
          "base_uri": "https://localhost:8080/"
        },
        "id": "4XQsJReeCKVQ",
        "outputId": "564d544f-1221-4f60-babe-887c1bd1cd1a"
      },
      "execution_count": null,
      "outputs": [
        {
          "output_type": "stream",
          "name": "stdout",
          "text": [
            "0\n",
            "1\n",
            "1\n",
            "2\n",
            "3\n",
            "5\n",
            "8\n",
            "13\n",
            "21\n",
            "34\n"
          ]
        }
      ]
    },
    {
      "cell_type": "markdown",
      "source": [],
      "metadata": {
        "id": "7Misct5DCk_8"
      }
    },
    {
      "cell_type": "markdown",
      "source": [
        "Q6). Write a generator function in Python that yields the powers of 2 up to a given exponent."
      ],
      "metadata": {
        "id": "FFx9-VERClBm"
      }
    },
    {
      "cell_type": "code",
      "source": [
        "#Ans\n",
        "def powers_of_two(max_exponent):\n",
        "    for i in range(max_exponent + 1):\n",
        "        yield 2 ** i\n",
        "for value in powers_of_two(5):\n",
        "    print(value)"
      ],
      "metadata": {
        "colab": {
          "base_uri": "https://localhost:8080/"
        },
        "id": "T5CCEmeHCqJv",
        "outputId": "70da627b-0f52-491e-893a-202404bb00b9"
      },
      "execution_count": null,
      "outputs": [
        {
          "output_type": "stream",
          "name": "stdout",
          "text": [
            "1\n",
            "2\n",
            "4\n",
            "8\n",
            "16\n",
            "32\n"
          ]
        }
      ]
    },
    {
      "cell_type": "markdown",
      "source": [
        "7. Implement a generator function that reads a file line by line and yields each line as a string."
      ],
      "metadata": {
        "id": "XXPUzc2PDMlG"
      }
    },
    {
      "cell_type": "code",
      "source": [
        "#Ans\n",
        "def read_lines(filename):\n",
        "    with open(filename, 'r') as file:\n",
        "        for line in file:\n",
        "            yield line.strip()\n"
      ],
      "metadata": {
        "id": "RceQyqNlCmnJ"
      },
      "execution_count": null,
      "outputs": []
    },
    {
      "cell_type": "code",
      "source": [
        "for value in powers_of_two(5):\n",
        "    print(value)\n"
      ],
      "metadata": {
        "colab": {
          "base_uri": "https://localhost:8080/"
        },
        "id": "JzflgPa8D-U9",
        "outputId": "f3507a89-031e-4701-d337-768640c24c30"
      },
      "execution_count": null,
      "outputs": [
        {
          "output_type": "stream",
          "name": "stdout",
          "text": [
            "1\n",
            "2\n",
            "4\n",
            "8\n",
            "16\n",
            "32\n"
          ]
        }
      ]
    },
    {
      "cell_type": "markdown",
      "source": [
        "Q8). Use a lambda function in Python to sort a list of tuples based on the second element of each tuple."
      ],
      "metadata": {
        "id": "9C3-tcvaEsWx"
      }
    },
    {
      "cell_type": "code",
      "source": [
        "#Ans\n",
        "data = [(1, 3), (4, 1), (2, 5), (3, 2)]\n",
        "sorted_data = sorted(data, key=lambda x: x[1])\n",
        "print(\"Sorted list:\", sorted_data)"
      ],
      "metadata": {
        "colab": {
          "base_uri": "https://localhost:8080/"
        },
        "id": "iSQhIjdgEwUG",
        "outputId": "d8cd500f-101a-4be6-d703-cb7d56ce4f94"
      },
      "execution_count": null,
      "outputs": [
        {
          "output_type": "stream",
          "name": "stdout",
          "text": [
            "Sorted list: [(4, 1), (3, 2), (1, 3), (2, 5)]\n"
          ]
        }
      ]
    },
    {
      "cell_type": "markdown",
      "source": [],
      "metadata": {
        "id": "m1VDrXSeFZBl"
      }
    },
    {
      "cell_type": "markdown",
      "source": [
        "Q9). Write a Python program that uses map() to convert a list of temperatures from Celsius to Fahrenheit."
      ],
      "metadata": {
        "id": "88-NVPUhFZDV"
      }
    },
    {
      "cell_type": "code",
      "source": [
        "#Ans:\n",
        "celsius = [0, 20, 37, 100]\n",
        "fahrenheit = list(map(lambda c: (c * 9/5) + 32, celsius))\n",
        "print(\"Fahrenheit:\", fahrenheit)\n"
      ],
      "metadata": {
        "colab": {
          "base_uri": "https://localhost:8080/"
        },
        "id": "xyoIJKlUFdEI",
        "outputId": "ead497b7-e1ea-4f7f-8fcd-842b7c42b919"
      },
      "execution_count": null,
      "outputs": [
        {
          "output_type": "stream",
          "name": "stdout",
          "text": [
            "Fahrenheit: [32.0, 68.0, 98.6, 212.0]\n"
          ]
        }
      ]
    },
    {
      "cell_type": "markdown",
      "source": [
        "Q10). Create a Python program that uses filter()' to remove all the vowels from a given string."
      ],
      "metadata": {
        "id": "6KfbcTCwFxFA"
      }
    },
    {
      "cell_type": "code",
      "source": [
        "#Ans:\n",
        "def remove_vowels(text):\n",
        "    vowels = 'aeiouAEIOU'\n",
        "    return ''.join(filter(lambda ch: ch not in vowels, text))\n"
      ],
      "metadata": {
        "id": "hiiUHTzvF2dk"
      },
      "execution_count": null,
      "outputs": []
    },
    {
      "cell_type": "code",
      "source": [
        "input_str = \"Hello, Python World!\"\n",
        "result = remove_vowels(input_str)\n",
        "print(\"Without vowels:\", result)"
      ],
      "metadata": {
        "colab": {
          "base_uri": "https://localhost:8080/"
        },
        "id": "cnIx6qj4F_Mp",
        "outputId": "97767e18-487a-48a2-f156-91e1fc8c1841"
      },
      "execution_count": null,
      "outputs": [
        {
          "output_type": "stream",
          "name": "stdout",
          "text": [
            "Without vowels: Hll, Pythn Wrld!\n"
          ]
        }
      ]
    },
    {
      "cell_type": "markdown",
      "source": [
        "Q11) Imagine an accounting routine used in a book shop. It works on a list with sublists, which look like this:\n",
        "Order Number 34587\n",
        "98762\n",
        "77226\n",
        "88112\n",
        "Book Title and Author\n",
        "Learning Python, Mark Lutz Programming Python, Mark Lutz Head First Python, Paul Barry Einführung in Python3, Bernd Klein\n",
        "Quantity\n",
        "Price per Item\n",
        "40.95\n",
        "56.80\n",
        "32.95\n",
        "24.99\n",
        "Write a Python program, which returns a list with 2-tuples. Each tuple consists of the order number and the product of the price per item and the quantity. The product should be increased by 10,- € if the value of the order is smaller than 100,00 €."
      ],
      "metadata": {
        "id": "XSz7AebpGJCF"
      }
    },
    {
      "cell_type": "code",
      "source": [
        "#Ans:\n",
        "orders = [\n",
        "    [34587, \"Learning Python, Mark Lutz\", 4, 40.95],\n",
        "    [98762, \"Programming Python, Mark Lutz\", 5, 56.80],\n",
        "    [77226, \"Head First Python, Paul Barry\", 3, 32.95],\n",
        "    [88112, \"Einführung in Python3, Bernd Klein\", 3, 24.99]\n",
        "]\n",
        "def process_orders(order_list):\n",
        "    result = []\n",
        "    for order in order_list:\n",
        "        order_number = order[0]\n",
        "        quantity = order[2]\n",
        "        price_per_item = order[3]\n",
        "\n",
        "        total = quantity * price_per_item\n",
        "        if total < 100:\n",
        "            total += 10  # Add €10 handling fee\n",
        "\n",
        "        result.append((order_number, round(total, 2)))  # Round to 2 decimal places\n",
        "    return result\n",
        "final_orders = process_orders(orders)\n",
        "print(final_orders)\n"
      ],
      "metadata": {
        "colab": {
          "base_uri": "https://localhost:8080/"
        },
        "id": "AYjePyQxGMWm",
        "outputId": "c9989fed-40dc-4c13-ea54-bad739d1caab"
      },
      "execution_count": null,
      "outputs": [
        {
          "output_type": "stream",
          "name": "stdout",
          "text": [
            "[(34587, 163.8), (98762, 284.0), (77226, 108.85), (88112, 84.97)]\n"
          ]
        }
      ]
    }
  ]
}